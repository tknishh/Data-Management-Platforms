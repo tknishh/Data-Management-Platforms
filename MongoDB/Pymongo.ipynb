{
 "cells": [
  {
   "cell_type": "code",
   "execution_count": 1,
   "metadata": {},
   "outputs": [],
   "source": [
    "import pymongo"
   ]
  },
  {
   "cell_type": "code",
   "execution_count": 2,
   "metadata": {},
   "outputs": [],
   "source": [
    "myclient = pymongo.MongoClient(\"mongodb://localhost:27017/\")\n",
    "\n",
    "mydb = myclient[\"tknishh\"]"
   ]
  },
  {
   "cell_type": "code",
   "execution_count": 3,
   "metadata": {},
   "outputs": [],
   "source": [
    "mycol = mydb[\"names\"]"
   ]
  },
  {
   "cell_type": "code",
   "execution_count": 4,
   "metadata": {},
   "outputs": [],
   "source": [
    "mydict = { \"name\": \"John\", \"address\": \"Highway 37\" }"
   ]
  },
  {
   "cell_type": "code",
   "execution_count": 5,
   "metadata": {},
   "outputs": [],
   "source": [
    "x = mycol.insert_one(mydict)"
   ]
  },
  {
   "cell_type": "code",
   "execution_count": 6,
   "metadata": {},
   "outputs": [
    {
     "name": "stdout",
     "output_type": "stream",
     "text": [
      "62e14716187c8f79e9452788\n"
     ]
    }
   ],
   "source": [
    "mydict = { \"name\": \"Peter\", \"address\": \"Lowstreet 27\" }\n",
    "\n",
    "x = mycol.insert_one(mydict)\n",
    "\n",
    "print(x.inserted_id)"
   ]
  },
  {
   "cell_type": "code",
   "execution_count": 7,
   "metadata": {},
   "outputs": [],
   "source": [
    "mylist = [\n",
    "  { \"name\": \"Amy\", \"address\": \"Apple st 652\"},\n",
    "  { \"name\": \"Hannah\", \"address\": \"Mountain 21\"},\n",
    "  { \"name\": \"Michael\", \"address\": \"Valley 345\"},\n",
    "  { \"name\": \"Sandy\", \"address\": \"Ocean blvd 2\"},\n",
    "  { \"name\": \"Betty\", \"address\": \"Green Grass 1\"},\n",
    "  { \"name\": \"Richard\", \"address\": \"Sky st 331\"},\n",
    "  { \"name\": \"Susan\", \"address\": \"One way 98\"},\n",
    "  { \"name\": \"Vicky\", \"address\": \"Yellow Garden 2\"},\n",
    "  { \"name\": \"Ben\", \"address\": \"Park Lane 38\"},\n",
    "  { \"name\": \"William\", \"address\": \"Central st 954\"},\n",
    "  { \"name\": \"Chuck\", \"address\": \"Main Road 989\"},\n",
    "  { \"name\": \"Viola\", \"address\": \"Sideway 1633\"}\n",
    "]\n",
    "\n",
    "x = mycol.insert_many(mylist)"
   ]
  },
  {
   "cell_type": "code",
   "execution_count": 8,
   "metadata": {},
   "outputs": [
    {
     "name": "stdout",
     "output_type": "stream",
     "text": [
      "['admin', 'config', 'local', 'tknishh']\n"
     ]
    }
   ],
   "source": [
    "print(myclient.list_database_names())"
   ]
  },
  {
   "cell_type": "code",
   "execution_count": 9,
   "metadata": {},
   "outputs": [
    {
     "name": "stdout",
     "output_type": "stream",
     "text": [
      "The database exists.\n"
     ]
    }
   ],
   "source": [
    "dblist = myclient.list_database_names()\n",
    "if \"tknishh\" in dblist:\n",
    "  print(\"The database exists.\")"
   ]
  },
  {
   "cell_type": "code",
   "execution_count": 10,
   "metadata": {},
   "outputs": [
    {
     "data": {
      "text/plain": [
       "{'_id': ObjectId('62e1465042b26c086419c73d'),\n",
       " 'name': 'John',\n",
       " 'address': 'Highway 37'}"
      ]
     },
     "execution_count": 10,
     "metadata": {},
     "output_type": "execute_result"
    }
   ],
   "source": [
    "x = mycol.find_one()\n",
    "x"
   ]
  },
  {
   "cell_type": "code",
   "execution_count": 11,
   "metadata": {},
   "outputs": [
    {
     "name": "stdout",
     "output_type": "stream",
     "text": [
      "{'_id': ObjectId('62e1465042b26c086419c73d'), 'name': 'John', 'address': 'Highway 37'}\n",
      "{'_id': ObjectId('62e1465142b26c086419c73e'), 'name': 'Peter', 'address': 'Lowstreet 27'}\n",
      "{'_id': ObjectId('62e1465342b26c086419c73f'), 'name': 'Amy', 'address': 'Apple st 652'}\n",
      "{'_id': ObjectId('62e1465342b26c086419c740'), 'name': 'Hannah', 'address': 'Mountain 21'}\n",
      "{'_id': ObjectId('62e1465342b26c086419c741'), 'name': 'Michael', 'address': 'Canyon 123'}\n",
      "{'_id': ObjectId('62e1465342b26c086419c742'), 'name': 'Sandy', 'address': 'Ocean blvd 2'}\n",
      "{'_id': ObjectId('62e1465342b26c086419c743'), 'name': 'Betty', 'address': 'Green Grass 1'}\n",
      "{'_id': ObjectId('62e1465342b26c086419c744'), 'name': 'Minnie', 'address': 'Sky st 331'}\n",
      "{'_id': ObjectId('62e1465342b26c086419c745'), 'name': 'Susan', 'address': 'One way 98'}\n",
      "{'_id': ObjectId('62e1465342b26c086419c746'), 'name': 'Vicky', 'address': 'Yellow Garden 2'}\n",
      "{'_id': ObjectId('62e1465342b26c086419c747'), 'name': 'Ben', 'address': 'Park Lane 38'}\n",
      "{'_id': ObjectId('62e1465342b26c086419c748'), 'name': 'William', 'address': 'Central st 954'}\n",
      "{'_id': ObjectId('62e1465342b26c086419c749'), 'name': 'Chuck', 'address': 'Main Road 989'}\n",
      "{'_id': ObjectId('62e1465342b26c086419c74a'), 'name': 'Minnie', 'address': 'Sideway 1633'}\n",
      "{'_id': ObjectId('62e14716187c8f79e9452787'), 'name': 'John', 'address': 'Highway 37'}\n",
      "{'_id': ObjectId('62e14716187c8f79e9452788'), 'name': 'Peter', 'address': 'Lowstreet 27'}\n",
      "{'_id': ObjectId('62e14716187c8f79e9452789'), 'name': 'Amy', 'address': 'Apple st 652'}\n",
      "{'_id': ObjectId('62e14716187c8f79e945278a'), 'name': 'Hannah', 'address': 'Mountain 21'}\n",
      "{'_id': ObjectId('62e14716187c8f79e945278b'), 'name': 'Michael', 'address': 'Valley 345'}\n",
      "{'_id': ObjectId('62e14716187c8f79e945278c'), 'name': 'Sandy', 'address': 'Ocean blvd 2'}\n",
      "{'_id': ObjectId('62e14716187c8f79e945278d'), 'name': 'Betty', 'address': 'Green Grass 1'}\n",
      "{'_id': ObjectId('62e14716187c8f79e945278e'), 'name': 'Richard', 'address': 'Sky st 331'}\n",
      "{'_id': ObjectId('62e14716187c8f79e945278f'), 'name': 'Susan', 'address': 'One way 98'}\n",
      "{'_id': ObjectId('62e14716187c8f79e9452790'), 'name': 'Vicky', 'address': 'Yellow Garden 2'}\n",
      "{'_id': ObjectId('62e14716187c8f79e9452791'), 'name': 'Ben', 'address': 'Park Lane 38'}\n",
      "{'_id': ObjectId('62e14716187c8f79e9452792'), 'name': 'William', 'address': 'Central st 954'}\n",
      "{'_id': ObjectId('62e14716187c8f79e9452793'), 'name': 'Chuck', 'address': 'Main Road 989'}\n",
      "{'_id': ObjectId('62e14716187c8f79e9452794'), 'name': 'Viola', 'address': 'Sideway 1633'}\n"
     ]
    }
   ],
   "source": [
    "for x in mycol.find():\n",
    "    print(x)"
   ]
  },
  {
   "cell_type": "code",
   "execution_count": 12,
   "metadata": {},
   "outputs": [
    {
     "name": "stdout",
     "output_type": "stream",
     "text": [
      "{'_id': ObjectId('62e1465042b26c086419c73d'), 'address': 'Highway 37'}\n",
      "{'_id': ObjectId('62e1465142b26c086419c73e'), 'address': 'Lowstreet 27'}\n",
      "{'_id': ObjectId('62e1465342b26c086419c73f'), 'address': 'Apple st 652'}\n",
      "{'_id': ObjectId('62e1465342b26c086419c740'), 'address': 'Mountain 21'}\n",
      "{'_id': ObjectId('62e1465342b26c086419c741'), 'address': 'Canyon 123'}\n",
      "{'_id': ObjectId('62e1465342b26c086419c742'), 'address': 'Ocean blvd 2'}\n",
      "{'_id': ObjectId('62e1465342b26c086419c743'), 'address': 'Green Grass 1'}\n",
      "{'_id': ObjectId('62e1465342b26c086419c744'), 'address': 'Sky st 331'}\n",
      "{'_id': ObjectId('62e1465342b26c086419c745'), 'address': 'One way 98'}\n",
      "{'_id': ObjectId('62e1465342b26c086419c746'), 'address': 'Yellow Garden 2'}\n",
      "{'_id': ObjectId('62e1465342b26c086419c747'), 'address': 'Park Lane 38'}\n",
      "{'_id': ObjectId('62e1465342b26c086419c748'), 'address': 'Central st 954'}\n",
      "{'_id': ObjectId('62e1465342b26c086419c749'), 'address': 'Main Road 989'}\n",
      "{'_id': ObjectId('62e1465342b26c086419c74a'), 'address': 'Sideway 1633'}\n",
      "{'_id': ObjectId('62e14716187c8f79e9452787'), 'address': 'Highway 37'}\n",
      "{'_id': ObjectId('62e14716187c8f79e9452788'), 'address': 'Lowstreet 27'}\n",
      "{'_id': ObjectId('62e14716187c8f79e9452789'), 'address': 'Apple st 652'}\n",
      "{'_id': ObjectId('62e14716187c8f79e945278a'), 'address': 'Mountain 21'}\n",
      "{'_id': ObjectId('62e14716187c8f79e945278b'), 'address': 'Valley 345'}\n",
      "{'_id': ObjectId('62e14716187c8f79e945278c'), 'address': 'Ocean blvd 2'}\n",
      "{'_id': ObjectId('62e14716187c8f79e945278d'), 'address': 'Green Grass 1'}\n",
      "{'_id': ObjectId('62e14716187c8f79e945278e'), 'address': 'Sky st 331'}\n",
      "{'_id': ObjectId('62e14716187c8f79e945278f'), 'address': 'One way 98'}\n",
      "{'_id': ObjectId('62e14716187c8f79e9452790'), 'address': 'Yellow Garden 2'}\n",
      "{'_id': ObjectId('62e14716187c8f79e9452791'), 'address': 'Park Lane 38'}\n",
      "{'_id': ObjectId('62e14716187c8f79e9452792'), 'address': 'Central st 954'}\n",
      "{'_id': ObjectId('62e14716187c8f79e9452793'), 'address': 'Main Road 989'}\n",
      "{'_id': ObjectId('62e14716187c8f79e9452794'), 'address': 'Sideway 1633'}\n"
     ]
    }
   ],
   "source": [
    " for x in mycol.find({},{ \"name\": 0 }):\n",
    "  print(x)"
   ]
  },
  {
   "cell_type": "code",
   "execution_count": 13,
   "metadata": {},
   "outputs": [
    {
     "name": "stdout",
     "output_type": "stream",
     "text": [
      "{'_id': ObjectId('62e1465342b26c086419c746'), 'name': 'Vicky', 'address': 'Yellow Garden 2'}\n",
      "{'_id': ObjectId('62e14716187c8f79e945278b'), 'name': 'Michael', 'address': 'Valley 345'}\n",
      "{'_id': ObjectId('62e14716187c8f79e9452790'), 'name': 'Vicky', 'address': 'Yellow Garden 2'}\n"
     ]
    }
   ],
   "source": [
    "query = { 'address': {\"$gt\": \"T\"}}\n",
    "mydoc = mycol.find(query)\n",
    "\n",
    "for x in mydoc:\n",
    "    print(x)"
   ]
  },
  {
   "cell_type": "code",
   "execution_count": 14,
   "metadata": {},
   "outputs": [
    {
     "name": "stdout",
     "output_type": "stream",
     "text": [
      "{'_id': ObjectId('62e1465342b26c086419c744'), 'name': 'Minnie', 'address': 'Sky st 331'}\n",
      "{'_id': ObjectId('62e1465342b26c086419c74a'), 'name': 'Minnie', 'address': 'Sideway 1633'}\n",
      "{'_id': ObjectId('62e14716187c8f79e945278e'), 'name': 'Richard', 'address': 'Sky st 331'}\n",
      "{'_id': ObjectId('62e14716187c8f79e9452794'), 'name': 'Viola', 'address': 'Sideway 1633'}\n"
     ]
    }
   ],
   "source": [
    "query = { 'address': {\"$regex\": \"^S\"}}\n",
    "mydoc = mycol.find(query)\n",
    "\n",
    "for x in mydoc:\n",
    "    print(x)"
   ]
  },
  {
   "cell_type": "code",
   "execution_count": 16,
   "metadata": {},
   "outputs": [
    {
     "name": "stdout",
     "output_type": "stream",
     "text": [
      "{'_id': ObjectId('62e14716187c8f79e9452794'), 'name': 'Viola', 'address': 'Sideway 1633'}\n"
     ]
    }
   ],
   "source": [
    "sortdoc = mycol.find().sort(\"address\")  #by default ascending\n",
    "print(x)"
   ]
  },
  {
   "cell_type": "code",
   "execution_count": 17,
   "metadata": {},
   "outputs": [
    {
     "name": "stdout",
     "output_type": "stream",
     "text": [
      "{'_id': ObjectId('62e1465342b26c086419c746'), 'name': 'Vicky', 'address': 'Yellow Garden 2'}\n",
      "{'_id': ObjectId('62e14716187c8f79e9452790'), 'name': 'Vicky', 'address': 'Yellow Garden 2'}\n",
      "{'_id': ObjectId('62e14716187c8f79e945278b'), 'name': 'Michael', 'address': 'Valley 345'}\n",
      "{'_id': ObjectId('62e1465342b26c086419c744'), 'name': 'Minnie', 'address': 'Sky st 331'}\n",
      "{'_id': ObjectId('62e14716187c8f79e945278e'), 'name': 'Richard', 'address': 'Sky st 331'}\n",
      "{'_id': ObjectId('62e1465342b26c086419c74a'), 'name': 'Minnie', 'address': 'Sideway 1633'}\n",
      "{'_id': ObjectId('62e14716187c8f79e9452794'), 'name': 'Viola', 'address': 'Sideway 1633'}\n",
      "{'_id': ObjectId('62e1465342b26c086419c747'), 'name': 'Ben', 'address': 'Park Lane 38'}\n",
      "{'_id': ObjectId('62e14716187c8f79e9452791'), 'name': 'Ben', 'address': 'Park Lane 38'}\n",
      "{'_id': ObjectId('62e1465342b26c086419c745'), 'name': 'Susan', 'address': 'One way 98'}\n",
      "{'_id': ObjectId('62e14716187c8f79e945278f'), 'name': 'Susan', 'address': 'One way 98'}\n",
      "{'_id': ObjectId('62e1465342b26c086419c742'), 'name': 'Sandy', 'address': 'Ocean blvd 2'}\n",
      "{'_id': ObjectId('62e14716187c8f79e945278c'), 'name': 'Sandy', 'address': 'Ocean blvd 2'}\n",
      "{'_id': ObjectId('62e1465342b26c086419c740'), 'name': 'Hannah', 'address': 'Mountain 21'}\n",
      "{'_id': ObjectId('62e14716187c8f79e945278a'), 'name': 'Hannah', 'address': 'Mountain 21'}\n",
      "{'_id': ObjectId('62e1465342b26c086419c749'), 'name': 'Chuck', 'address': 'Main Road 989'}\n",
      "{'_id': ObjectId('62e14716187c8f79e9452793'), 'name': 'Chuck', 'address': 'Main Road 989'}\n",
      "{'_id': ObjectId('62e1465142b26c086419c73e'), 'name': 'Peter', 'address': 'Lowstreet 27'}\n",
      "{'_id': ObjectId('62e14716187c8f79e9452788'), 'name': 'Peter', 'address': 'Lowstreet 27'}\n",
      "{'_id': ObjectId('62e1465042b26c086419c73d'), 'name': 'John', 'address': 'Highway 37'}\n",
      "{'_id': ObjectId('62e14716187c8f79e9452787'), 'name': 'John', 'address': 'Highway 37'}\n",
      "{'_id': ObjectId('62e1465342b26c086419c743'), 'name': 'Betty', 'address': 'Green Grass 1'}\n",
      "{'_id': ObjectId('62e14716187c8f79e945278d'), 'name': 'Betty', 'address': 'Green Grass 1'}\n",
      "{'_id': ObjectId('62e1465342b26c086419c748'), 'name': 'William', 'address': 'Central st 954'}\n",
      "{'_id': ObjectId('62e14716187c8f79e9452792'), 'name': 'William', 'address': 'Central st 954'}\n",
      "{'_id': ObjectId('62e1465342b26c086419c741'), 'name': 'Michael', 'address': 'Canyon 123'}\n",
      "{'_id': ObjectId('62e1465342b26c086419c73f'), 'name': 'Amy', 'address': 'Apple st 652'}\n",
      "{'_id': ObjectId('62e14716187c8f79e9452789'), 'name': 'Amy', 'address': 'Apple st 652'}\n"
     ]
    }
   ],
   "source": [
    "sortdoc = mycol.find().sort(\"address\",-1)   #-1 for descending\n",
    "for x in sortdoc:\n",
    "    print(x)"
   ]
  },
  {
   "cell_type": "code",
   "execution_count": 18,
   "metadata": {},
   "outputs": [
    {
     "data": {
      "text/plain": [
       "<pymongo.results.DeleteResult at 0x1de49eaae00>"
      ]
     },
     "execution_count": 18,
     "metadata": {},
     "output_type": "execute_result"
    }
   ],
   "source": [
    "myquery = { \"address\": \"Park Lane 38\" }\n",
    "mycol.delete_one(myquery)"
   ]
  },
  {
   "cell_type": "code",
   "execution_count": 19,
   "metadata": {},
   "outputs": [
    {
     "name": "stdout",
     "output_type": "stream",
     "text": [
      "4  documents deleted.\n"
     ]
    }
   ],
   "source": [
    "myquery = { \"address\": {\"$regex\": \"^S\"} }\n",
    "\n",
    "x = mycol.delete_many(myquery)\n",
    "\n",
    "print(x.deleted_count, \" documents deleted.\")"
   ]
  },
  {
   "cell_type": "code",
   "execution_count": 20,
   "metadata": {},
   "outputs": [
    {
     "name": "stdout",
     "output_type": "stream",
     "text": [
      "23  documents deleted.\n"
     ]
    }
   ],
   "source": [
    "x = mycol.delete_many({})\n",
    "\n",
    "print(x.deleted_count, \" documents deleted.\")"
   ]
  },
  {
   "cell_type": "code",
   "execution_count": 21,
   "metadata": {},
   "outputs": [],
   "source": [
    "mydb = myclient[\"mydatabase\"]\n",
    "mycol = mydb[\"customers\"]\n",
    "\n",
    "mycol.drop()"
   ]
  },
  {
   "cell_type": "code",
   "execution_count": 28,
   "metadata": {},
   "outputs": [
    {
     "data": {
      "text/plain": [
       "<pymongo.results.UpdateResult at 0x1de49eabdf0>"
      ]
     },
     "execution_count": 28,
     "metadata": {},
     "output_type": "execute_result"
    }
   ],
   "source": [
    "myclient = pymongo.MongoClient(\"mongodb://localhost:27017/\")\n",
    "mydb = myclient[\"tknishh\"]\n",
    "mycol = mydb[\"names\"]\n",
    "\n",
    "mylist = [\n",
    "  { \"name\": \"Amy\", \"address\": \"Apple st 652\"},\n",
    "  { \"name\": \"Hannah\", \"address\": \"Mountain 21\"},\n",
    "  { \"name\": \"Michael\", \"address\": \"Valley 345\"},\n",
    "  { \"name\": \"Sandy\", \"address\": \"Ocean blvd 2\"},\n",
    "  { \"name\": \"Betty\", \"address\": \"Green Grass 1\"},\n",
    "  { \"name\": \"Richard\", \"address\": \"Sky st 331\"},\n",
    "  { \"name\": \"Susan\", \"address\": \"One way 98\"},\n",
    "  { \"name\": \"Vicky\", \"address\": \"Yellow Garden 2\"},\n",
    "  { \"name\": \"Ben\", \"address\": \"Park Lane 38\"},\n",
    "  { \"name\": \"William\", \"address\": \"Central st 954\"},\n",
    "  { \"name\": \"Chuck\", \"address\": \"Main Road 989\"},\n",
    "  { \"name\": \"Viola\", \"address\": \"Sideway 1633\"}\n",
    "]\n",
    "\n",
    "x = mycol.insert_many(mylist)\n",
    "\n",
    "myquery = { \"address\": \"Valley 345\" }\n",
    "newvalues = { \"$set\": { \"address\": \"Canyon 123\" } }\n",
    "\n",
    "mycol.update_one(myquery, newvalues)"
   ]
  },
  {
   "cell_type": "code",
   "execution_count": 29,
   "metadata": {},
   "outputs": [
    {
     "name": "stdout",
     "output_type": "stream",
     "text": [
      "{'_id': ObjectId('62e1479e187c8f79e9452797'), 'name': 'Amy', 'address': 'Apple st 652'}\n",
      "{'_id': ObjectId('62e1479e187c8f79e9452798'), 'name': 'Hannah', 'address': 'Mountain 21'}\n",
      "{'_id': ObjectId('62e1479e187c8f79e9452799'), 'name': 'Michael', 'address': 'Canyon 123'}\n",
      "{'_id': ObjectId('62e1479e187c8f79e945279a'), 'name': 'Sandy', 'address': 'Ocean blvd 2'}\n",
      "{'_id': ObjectId('62e1479e187c8f79e945279b'), 'name': 'Betty', 'address': 'Green Grass 1'}\n",
      "{'_id': ObjectId('62e1479e187c8f79e945279c'), 'name': 'Richard', 'address': 'Sky st 331'}\n",
      "{'_id': ObjectId('62e1479e187c8f79e945279d'), 'name': 'Susan', 'address': 'One way 98'}\n",
      "{'_id': ObjectId('62e1479e187c8f79e945279e'), 'name': 'Vicky', 'address': 'Yellow Garden 2'}\n",
      "{'_id': ObjectId('62e1479e187c8f79e945279f'), 'name': 'Ben', 'address': 'Park Lane 38'}\n",
      "{'_id': ObjectId('62e1479e187c8f79e94527a0'), 'name': 'William', 'address': 'Central st 954'}\n",
      "{'_id': ObjectId('62e1479e187c8f79e94527a1'), 'name': 'Chuck', 'address': 'Main Road 989'}\n",
      "{'_id': ObjectId('62e1479e187c8f79e94527a2'), 'name': 'Viola', 'address': 'Sideway 1633'}\n"
     ]
    }
   ],
   "source": [
    "for x in mycol.find():\n",
    "  print(x)"
   ]
  },
  {
   "cell_type": "code",
   "execution_count": 30,
   "metadata": {},
   "outputs": [
    {
     "name": "stdout",
     "output_type": "stream",
     "text": [
      "2 documents updated.\n"
     ]
    }
   ],
   "source": [
    "myquery = { \"address\": { \"$regex\": \"^S\" } }\n",
    "newvalues = { \"$set\": { \"name\": \"Minnie\" } }\n",
    "\n",
    "x = mycol.update_many(myquery, newvalues)\n",
    "\n",
    "print(x.modified_count, \"documents updated.\")"
   ]
  },
  {
   "cell_type": "code",
   "execution_count": 31,
   "metadata": {},
   "outputs": [
    {
     "name": "stdout",
     "output_type": "stream",
     "text": [
      "{'_id': ObjectId('62e1479e187c8f79e9452797'), 'name': 'Amy', 'address': 'Apple st 652'}\n",
      "{'_id': ObjectId('62e1479e187c8f79e9452798'), 'name': 'Hannah', 'address': 'Mountain 21'}\n"
     ]
    }
   ],
   "source": [
    "mydoc = mycol.find().limit(2)\n",
    "for x in mydoc:\n",
    "    print(x)"
   ]
  },
  {
   "cell_type": "code",
   "execution_count": null,
   "metadata": {},
   "outputs": [],
   "source": []
  }
 ],
 "metadata": {
  "kernelspec": {
   "display_name": "Python 3.10.5 64-bit",
   "language": "python",
   "name": "python3"
  },
  "language_info": {
   "codemirror_mode": {
    "name": "ipython",
    "version": 3
   },
   "file_extension": ".py",
   "mimetype": "text/x-python",
   "name": "python",
   "nbconvert_exporter": "python",
   "pygments_lexer": "ipython3",
   "version": "3.10.5"
  },
  "orig_nbformat": 4,
  "vscode": {
   "interpreter": {
    "hash": "b64e5434eb6f78b23ded7093c27034844fda971e57a0689a97b233b8e8d5583b"
   }
  }
 },
 "nbformat": 4,
 "nbformat_minor": 2
}

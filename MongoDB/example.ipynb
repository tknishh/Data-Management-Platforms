{
 "cells": [
  {
   "cell_type": "code",
   "execution_count": 1,
   "metadata": {},
   "outputs": [],
   "source": [
    "import pymongo"
   ]
  },
  {
   "cell_type": "code",
   "execution_count": 2,
   "metadata": {},
   "outputs": [],
   "source": [
    "myclient = pymongo.MongoClient(\"mongodb://localhost:27017/\")\n",
    "\n",
    "mydb = myclient[\"tknishh\"]"
   ]
  },
  {
   "cell_type": "code",
   "execution_count": 3,
   "metadata": {},
   "outputs": [],
   "source": [
    "mycol = mydb[\"names\"]"
   ]
  },
  {
   "cell_type": "code",
   "execution_count": 4,
   "metadata": {},
   "outputs": [],
   "source": [
    "mydict = { \"name\": \"John\", \"address\": \"Highway 37\" }"
   ]
  },
  {
   "cell_type": "code",
   "execution_count": 5,
   "metadata": {},
   "outputs": [],
   "source": [
    "x = mycol.insert_one(mydict)"
   ]
  },
  {
   "cell_type": "code",
   "execution_count": 6,
   "metadata": {},
   "outputs": [
    {
     "name": "stdout",
     "output_type": "stream",
     "text": [
      "62e1261042b26c086419c72d\n"
     ]
    }
   ],
   "source": [
    "mydict = { \"name\": \"Peter\", \"address\": \"Lowstreet 27\" }\n",
    "\n",
    "x = mycol.insert_one(mydict)\n",
    "\n",
    "print(x.inserted_id)"
   ]
  },
  {
   "cell_type": "code",
   "execution_count": 7,
   "metadata": {},
   "outputs": [],
   "source": [
    "mylist = [\n",
    "  { \"name\": \"Amy\", \"address\": \"Apple st 652\"},\n",
    "  { \"name\": \"Hannah\", \"address\": \"Mountain 21\"},\n",
    "  { \"name\": \"Michael\", \"address\": \"Valley 345\"},\n",
    "  { \"name\": \"Sandy\", \"address\": \"Ocean blvd 2\"},\n",
    "  { \"name\": \"Betty\", \"address\": \"Green Grass 1\"},\n",
    "  { \"name\": \"Richard\", \"address\": \"Sky st 331\"},\n",
    "  { \"name\": \"Susan\", \"address\": \"One way 98\"},\n",
    "  { \"name\": \"Vicky\", \"address\": \"Yellow Garden 2\"},\n",
    "  { \"name\": \"Ben\", \"address\": \"Park Lane 38\"},\n",
    "  { \"name\": \"William\", \"address\": \"Central st 954\"},\n",
    "  { \"name\": \"Chuck\", \"address\": \"Main Road 989\"},\n",
    "  { \"name\": \"Viola\", \"address\": \"Sideway 1633\"}\n",
    "]\n",
    "\n",
    "x = mycol.insert_many(mylist)"
   ]
  },
  {
   "cell_type": "code",
   "execution_count": 8,
   "metadata": {},
   "outputs": [
    {
     "name": "stdout",
     "output_type": "stream",
     "text": [
      "['admin', 'config', 'local', 'tknishh']\n"
     ]
    }
   ],
   "source": [
    "print(myclient.list_database_names())"
   ]
  },
  {
   "cell_type": "code",
   "execution_count": 10,
   "metadata": {},
   "outputs": [
    {
     "name": "stdout",
     "output_type": "stream",
     "text": [
      "The database exists.\n"
     ]
    }
   ],
   "source": [
    "dblist = myclient.list_database_names()\n",
    "if \"tknishh\" in dblist:\n",
    "  print(\"The database exists.\")"
   ]
  },
  {
   "cell_type": "code",
   "execution_count": 13,
   "metadata": {},
   "outputs": [
    {
     "data": {
      "text/plain": [
       "{'_id': ObjectId('62e1260e42b26c086419c72c'),\n",
       " 'name': 'John',\n",
       " 'address': 'Highway 37'}"
      ]
     },
     "execution_count": 13,
     "metadata": {},
     "output_type": "execute_result"
    }
   ],
   "source": [
    "x = mycol.find_one()\n",
    "x"
   ]
  },
  {
   "cell_type": "code",
   "execution_count": 15,
   "metadata": {},
   "outputs": [
    {
     "name": "stdout",
     "output_type": "stream",
     "text": [
      "{'_id': ObjectId('62e1260e42b26c086419c72c'), 'name': 'John', 'address': 'Highway 37'}\n",
      "{'_id': ObjectId('62e1261042b26c086419c72d'), 'name': 'Peter', 'address': 'Lowstreet 27'}\n",
      "{'_id': ObjectId('62e128d142b26c086419c72e'), 'name': 'Amy', 'address': 'Apple st 652'}\n",
      "{'_id': ObjectId('62e128d142b26c086419c72f'), 'name': 'Hannah', 'address': 'Mountain 21'}\n",
      "{'_id': ObjectId('62e128d142b26c086419c730'), 'name': 'Michael', 'address': 'Valley 345'}\n",
      "{'_id': ObjectId('62e128d142b26c086419c731'), 'name': 'Sandy', 'address': 'Ocean blvd 2'}\n",
      "{'_id': ObjectId('62e128d142b26c086419c732'), 'name': 'Betty', 'address': 'Green Grass 1'}\n",
      "{'_id': ObjectId('62e128d142b26c086419c733'), 'name': 'Richard', 'address': 'Sky st 331'}\n",
      "{'_id': ObjectId('62e128d142b26c086419c734'), 'name': 'Susan', 'address': 'One way 98'}\n",
      "{'_id': ObjectId('62e128d142b26c086419c735'), 'name': 'Vicky', 'address': 'Yellow Garden 2'}\n",
      "{'_id': ObjectId('62e128d142b26c086419c736'), 'name': 'Ben', 'address': 'Park Lane 38'}\n",
      "{'_id': ObjectId('62e128d142b26c086419c737'), 'name': 'William', 'address': 'Central st 954'}\n",
      "{'_id': ObjectId('62e128d142b26c086419c738'), 'name': 'Chuck', 'address': 'Main Road 989'}\n",
      "{'_id': ObjectId('62e128d142b26c086419c739'), 'name': 'Viola', 'address': 'Sideway 1633'}\n"
     ]
    }
   ],
   "source": [
    "for x in mycol.find():\n",
    "    print(x)"
   ]
  },
  {
   "cell_type": "code",
   "execution_count": 24,
   "metadata": {},
   "outputs": [
    {
     "name": "stdout",
     "output_type": "stream",
     "text": [
      "{'_id': ObjectId('62e1260e42b26c086419c72c'), 'address': 'Highway 37'}\n",
      "{'_id': ObjectId('62e1261042b26c086419c72d'), 'address': 'Lowstreet 27'}\n",
      "{'_id': ObjectId('62e128d142b26c086419c72e'), 'address': 'Apple st 652'}\n",
      "{'_id': ObjectId('62e128d142b26c086419c72f'), 'address': 'Mountain 21'}\n",
      "{'_id': ObjectId('62e128d142b26c086419c730'), 'address': 'Valley 345'}\n",
      "{'_id': ObjectId('62e128d142b26c086419c731'), 'address': 'Ocean blvd 2'}\n",
      "{'_id': ObjectId('62e128d142b26c086419c732'), 'address': 'Green Grass 1'}\n",
      "{'_id': ObjectId('62e128d142b26c086419c733'), 'address': 'Sky st 331'}\n",
      "{'_id': ObjectId('62e128d142b26c086419c734'), 'address': 'One way 98'}\n",
      "{'_id': ObjectId('62e128d142b26c086419c735'), 'address': 'Yellow Garden 2'}\n",
      "{'_id': ObjectId('62e128d142b26c086419c736'), 'address': 'Park Lane 38'}\n",
      "{'_id': ObjectId('62e128d142b26c086419c737'), 'address': 'Central st 954'}\n",
      "{'_id': ObjectId('62e128d142b26c086419c738'), 'address': 'Main Road 989'}\n",
      "{'_id': ObjectId('62e128d142b26c086419c739'), 'address': 'Sideway 1633'}\n"
     ]
    }
   ],
   "source": [
    " for x in mycol.find({},{ \"name\": 0 }):\n",
    "  print(x)"
   ]
  },
  {
   "cell_type": "code",
   "execution_count": null,
   "metadata": {},
   "outputs": [],
   "source": []
  }
 ],
 "metadata": {
  "kernelspec": {
   "display_name": "Python 3.10.5 64-bit",
   "language": "python",
   "name": "python3"
  },
  "language_info": {
   "codemirror_mode": {
    "name": "ipython",
    "version": 3
   },
   "file_extension": ".py",
   "mimetype": "text/x-python",
   "name": "python",
   "nbconvert_exporter": "python",
   "pygments_lexer": "ipython3",
   "version": "3.10.5"
  },
  "orig_nbformat": 4,
  "vscode": {
   "interpreter": {
    "hash": "b64e5434eb6f78b23ded7093c27034844fda971e57a0689a97b233b8e8d5583b"
   }
  }
 },
 "nbformat": 4,
 "nbformat_minor": 2
}
